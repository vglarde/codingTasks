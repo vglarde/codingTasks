{
 "cells": [
  {
   "cell_type": "markdown",
   "metadata": {},
   "source": [
    "# Handling Missing Data\n",
    "\n",
    "The goal of this task was to create an in-depth EDA on the Titanic dataset provided.\n",
    "\n",
    "The section presented in this Notebook is how I handled missing data for the columns *Age* and *Embarked* (Port of embarkation)."
   ]
  },
  {
   "cell_type": "code",
   "execution_count": 94,
   "metadata": {},
   "outputs": [],
   "source": [
    "# Import modules\n",
    "import pandas as pd\n",
    "import numpy as np\n",
    "from numpy.random import randint\n",
    "import seaborn as sns\n",
    "import matplotlib.pyplot as plt\n",
    "\n",
    "%matplotlib inline"
   ]
  },
  {
   "cell_type": "code",
   "execution_count": 95,
   "metadata": {},
   "outputs": [],
   "source": [
    "# Load data from Titanic.csv\n",
    "titanic_df = pd.read_csv('Titanic.csv')"
   ]
  },
  {
   "cell_type": "markdown",
   "metadata": {},
   "source": [
    "## Data exploration"
   ]
  },
  {
   "cell_type": "code",
   "execution_count": 96,
   "metadata": {},
   "outputs": [
    {
     "name": "stdout",
     "output_type": "stream",
     "text": [
      "<class 'pandas.core.frame.DataFrame'>\n",
      "RangeIndex: 891 entries, 0 to 890\n",
      "Data columns (total 12 columns):\n",
      " #   Column       Non-Null Count  Dtype  \n",
      "---  ------       --------------  -----  \n",
      " 0   PassengerId  891 non-null    int64  \n",
      " 1   Survived     891 non-null    int64  \n",
      " 2   Pclass       891 non-null    int64  \n",
      " 3   Name         891 non-null    object \n",
      " 4   Sex          891 non-null    object \n",
      " 5   Age          714 non-null    float64\n",
      " 6   SibSp        891 non-null    int64  \n",
      " 7   Parch        891 non-null    int64  \n",
      " 8   Ticket       891 non-null    object \n",
      " 9   Fare         891 non-null    float64\n",
      " 10  Cabin        204 non-null    object \n",
      " 11  Embarked     889 non-null    object \n",
      "dtypes: float64(2), int64(5), object(5)\n",
      "memory usage: 83.7+ KB\n"
     ]
    }
   ],
   "source": [
    "titanic_df.info()"
   ]
  },
  {
   "cell_type": "markdown",
   "metadata": {},
   "source": [
    "**Meaning of each variable:**\n",
    "\n",
    "| Variable | Description |\n",
    "|:---------|:------------| \n",
    "| Survived | Survival (0 = No; 1 = Yes) |  \n",
    "| Pclass   | Passenger Class* |\n",
    "| Name     | Name |\n",
    "| Sex      | Sex |\n",
    "| Age      | Age |\n",
    "| SibSp    | Number of **Sib**lings/**Sp**ouse aboard |\n",
    "| Parch    | Number of **Par**ents/**Ch**ildren aboard |\n",
    "| Ticket   | Ticket Number |\n",
    "| Fare     | Passenger Fare (in British pound) |\n",
    "| Cabin    | Cabin |\n",
    "| Embarked | Port of Embarkation (C = Cherbourg; Q = Queenstown; S = Southampton) |\n",
    "\n",
    "\\* Passenger Class (*Pclass*) is a proxy for socio-economic status (1st = Upper; 2nd = Middle; 3rd = Lower) \n",
    "\n",
    "Source: http://campus.lakeforest.edu/frank/FILES/MLFfiles/Bio150/Titanic/TitanicMETA.pdf"
   ]
  },
  {
   "cell_type": "markdown",
   "metadata": {},
   "source": [
    "## Missing Data"
   ]
  },
  {
   "cell_type": "code",
   "execution_count": 97,
   "metadata": {},
   "outputs": [
    {
     "data": {
      "text/plain": [
       "PassengerId      0\n",
       "Survived         0\n",
       "Pclass           0\n",
       "Name             0\n",
       "Sex              0\n",
       "Age            177\n",
       "SibSp            0\n",
       "Parch            0\n",
       "Ticket           0\n",
       "Fare             0\n",
       "Cabin          687\n",
       "Embarked         2\n",
       "dtype: int64"
      ]
     },
     "execution_count": 97,
     "metadata": {},
     "output_type": "execute_result"
    }
   ],
   "source": [
    "# Visualise missing data\n",
    "titanic_df.isnull().sum()"
   ]
  },
  {
   "cell_type": "markdown",
   "metadata": {},
   "source": [
    "## Port of embarkation\n",
    "\n",
    "Missing values for the port of embarkation (*Embarked*) are not significative (0.2%), as they represent only 2 out of 891 passengers."
   ]
  },
  {
   "cell_type": "code",
   "execution_count": 98,
   "metadata": {},
   "outputs": [
    {
     "data": {
      "text/html": [
       "<div>\n",
       "<style scoped>\n",
       "    .dataframe tbody tr th:only-of-type {\n",
       "        vertical-align: middle;\n",
       "    }\n",
       "\n",
       "    .dataframe tbody tr th {\n",
       "        vertical-align: top;\n",
       "    }\n",
       "\n",
       "    .dataframe thead th {\n",
       "        text-align: right;\n",
       "    }\n",
       "</style>\n",
       "<table border=\"1\" class=\"dataframe\">\n",
       "  <thead>\n",
       "    <tr style=\"text-align: right;\">\n",
       "      <th></th>\n",
       "      <th>PassengerId</th>\n",
       "      <th>Survived</th>\n",
       "      <th>Pclass</th>\n",
       "      <th>Name</th>\n",
       "      <th>Sex</th>\n",
       "      <th>Age</th>\n",
       "      <th>SibSp</th>\n",
       "      <th>Parch</th>\n",
       "      <th>Ticket</th>\n",
       "      <th>Fare</th>\n",
       "      <th>Cabin</th>\n",
       "      <th>Embarked</th>\n",
       "    </tr>\n",
       "  </thead>\n",
       "  <tbody>\n",
       "    <tr>\n",
       "      <th>61</th>\n",
       "      <td>62</td>\n",
       "      <td>1</td>\n",
       "      <td>1</td>\n",
       "      <td>Icard, Miss. Amelie</td>\n",
       "      <td>female</td>\n",
       "      <td>38.0</td>\n",
       "      <td>0</td>\n",
       "      <td>0</td>\n",
       "      <td>113572</td>\n",
       "      <td>80.0</td>\n",
       "      <td>B28</td>\n",
       "      <td>NaN</td>\n",
       "    </tr>\n",
       "    <tr>\n",
       "      <th>829</th>\n",
       "      <td>830</td>\n",
       "      <td>1</td>\n",
       "      <td>1</td>\n",
       "      <td>Stone, Mrs. George Nelson (Martha Evelyn)</td>\n",
       "      <td>female</td>\n",
       "      <td>62.0</td>\n",
       "      <td>0</td>\n",
       "      <td>0</td>\n",
       "      <td>113572</td>\n",
       "      <td>80.0</td>\n",
       "      <td>B28</td>\n",
       "      <td>NaN</td>\n",
       "    </tr>\n",
       "  </tbody>\n",
       "</table>\n",
       "</div>"
      ],
      "text/plain": [
       "     PassengerId  Survived  Pclass                                       Name  \\\n",
       "61            62         1       1                        Icard, Miss. Amelie   \n",
       "829          830         1       1  Stone, Mrs. George Nelson (Martha Evelyn)   \n",
       "\n",
       "        Sex   Age  SibSp  Parch  Ticket  Fare Cabin Embarked  \n",
       "61   female  38.0      0      0  113572  80.0   B28      NaN  \n",
       "829  female  62.0      0      0  113572  80.0   B28      NaN  "
      ]
     },
     "metadata": {},
     "output_type": "display_data"
    }
   ],
   "source": [
    "# Visualise the missing values for the port of embarkation\n",
    "display(titanic_df[titanic_df['Embarked'].isna()])"
   ]
  },
  {
   "cell_type": "markdown",
   "metadata": {},
   "source": [
    "As we can see, these two passengers did not embark with family or relatives (*SibSp* and *Parch*), so only external sources (not present in this dataset) could allow us to determine their actual port of embarkation.  \n",
    "\n",
    "Therefore, these two passengers will be assigned to the port where the majority of passengers boarded (i.e. Southampton)."
   ]
  },
  {
   "cell_type": "code",
   "execution_count": 99,
   "metadata": {},
   "outputs": [
    {
     "name": "stdout",
     "output_type": "stream",
     "text": [
      "Known passengers for each port of embarkation: Embarked\n",
      "S    644\n",
      "C    168\n",
      "Q     77\n",
      "dtype: int64\n",
      "\n",
      "Assigning \"Southampton\" to passengers without a port of embarkation.\n",
      "\n",
      "Verification: New total of passengers for each port of embarkation: Embarked\n",
      "S    646\n",
      "C    168\n",
      "Q     77\n",
      "dtype: int64\n"
     ]
    }
   ],
   "source": [
    "# Select the port where most passengers embarked\n",
    "embarked = titanic_df.groupby(['Embarked']).size().sort_values(ascending=False)\n",
    "\n",
    "# Visualise data (C = Cherbourg; Q = Queenstown; S = Southampton)\n",
    "print(f'Known passengers for each port of embarkation: {embarked}\\n')\n",
    "\n",
    "# Replace missing values for \"Embarked\" with the busiest port of embarkation\n",
    "embarked = embarked.index[0]  # Select \"S\" for Southampton\n",
    "titanic_df['Embarked'] = titanic_df['Embarked'].fillna(embarked)\n",
    "print('Assigning \"Southampton\" to passengers without a port of embarkation.\\n')\n",
    "\n",
    "# Verify that \"Southampton\" has been assigned to the two passengers. \n",
    "embarked = titanic_df.groupby(['Embarked']).size().sort_values(ascending=False)\n",
    "print('Verification: New total of passengers for each port of embarkation:',\n",
    "      embarked)"
   ]
  },
  {
   "cell_type": "markdown",
   "metadata": {},
   "source": [
    "## Missing Age\n",
    "\n",
    "The data type of the *Age* column is on \"float\", so we will start by rounding the values, so as to avoid having decimals for the age value. "
   ]
  },
  {
   "cell_type": "code",
   "execution_count": 100,
   "metadata": {},
   "outputs": [],
   "source": [
    "# Round values to avoid having decimal for the age value\n",
    "titanic_df = titanic_df.round({'Age':0}) "
   ]
  },
  {
   "cell_type": "markdown",
   "metadata": {},
   "source": [
    "* Missing age does represent a significative amount of values (19.9%) and is an important information.  \n",
    "    * 30 in 1st class\n",
    "    * 11 in 2nd class\n",
    "    * 136 in 3rd class"
   ]
  },
  {
   "cell_type": "code",
   "execution_count": 101,
   "metadata": {},
   "outputs": [
    {
     "data": {
      "text/html": [
       "<div>\n",
       "<style scoped>\n",
       "    .dataframe tbody tr th:only-of-type {\n",
       "        vertical-align: middle;\n",
       "    }\n",
       "\n",
       "    .dataframe tbody tr th {\n",
       "        vertical-align: top;\n",
       "    }\n",
       "\n",
       "    .dataframe thead th {\n",
       "        text-align: right;\n",
       "    }\n",
       "</style>\n",
       "<table border=\"1\" class=\"dataframe\">\n",
       "  <thead>\n",
       "    <tr style=\"text-align: right;\">\n",
       "      <th></th>\n",
       "      <th>PassengerId</th>\n",
       "      <th>Survived</th>\n",
       "      <th>Name</th>\n",
       "      <th>Sex</th>\n",
       "      <th>Age</th>\n",
       "      <th>SibSp</th>\n",
       "      <th>Parch</th>\n",
       "      <th>Ticket</th>\n",
       "      <th>Fare</th>\n",
       "      <th>Cabin</th>\n",
       "      <th>Embarked</th>\n",
       "    </tr>\n",
       "    <tr>\n",
       "      <th>Pclass</th>\n",
       "      <th></th>\n",
       "      <th></th>\n",
       "      <th></th>\n",
       "      <th></th>\n",
       "      <th></th>\n",
       "      <th></th>\n",
       "      <th></th>\n",
       "      <th></th>\n",
       "      <th></th>\n",
       "      <th></th>\n",
       "      <th></th>\n",
       "    </tr>\n",
       "  </thead>\n",
       "  <tbody>\n",
       "    <tr>\n",
       "      <th>1</th>\n",
       "      <td>30</td>\n",
       "      <td>30</td>\n",
       "      <td>30</td>\n",
       "      <td>30</td>\n",
       "      <td>0</td>\n",
       "      <td>30</td>\n",
       "      <td>30</td>\n",
       "      <td>30</td>\n",
       "      <td>30</td>\n",
       "      <td>16</td>\n",
       "      <td>30</td>\n",
       "    </tr>\n",
       "    <tr>\n",
       "      <th>2</th>\n",
       "      <td>11</td>\n",
       "      <td>11</td>\n",
       "      <td>11</td>\n",
       "      <td>11</td>\n",
       "      <td>0</td>\n",
       "      <td>11</td>\n",
       "      <td>11</td>\n",
       "      <td>11</td>\n",
       "      <td>11</td>\n",
       "      <td>1</td>\n",
       "      <td>11</td>\n",
       "    </tr>\n",
       "    <tr>\n",
       "      <th>3</th>\n",
       "      <td>136</td>\n",
       "      <td>136</td>\n",
       "      <td>136</td>\n",
       "      <td>136</td>\n",
       "      <td>0</td>\n",
       "      <td>136</td>\n",
       "      <td>136</td>\n",
       "      <td>136</td>\n",
       "      <td>136</td>\n",
       "      <td>2</td>\n",
       "      <td>136</td>\n",
       "    </tr>\n",
       "  </tbody>\n",
       "</table>\n",
       "</div>"
      ],
      "text/plain": [
       "        PassengerId  Survived  Name  Sex  Age  SibSp  Parch  Ticket  Fare  \\\n",
       "Pclass                                                                      \n",
       "1                30        30    30   30    0     30     30      30    30   \n",
       "2                11        11    11   11    0     11     11      11    11   \n",
       "3               136       136   136  136    0    136    136     136   136   \n",
       "\n",
       "        Cabin  Embarked  \n",
       "Pclass                   \n",
       "1          16        30  \n",
       "2           1        11  \n",
       "3           2       136  "
      ]
     },
     "execution_count": 101,
     "metadata": {},
     "output_type": "execute_result"
    }
   ],
   "source": [
    "# Count passengers whose age is missing for each travel class\n",
    "age_pclass = titanic_df[titanic_df['Age'].isna()]\n",
    "age_pclass.groupby('Pclass').count()"
   ]
  },
  {
   "cell_type": "markdown",
   "metadata": {},
   "source": [
    "Here is my methodology to populate the missing values for the *Age* variable:\n",
    "* Calculate the proportion of passengers for six age categories:\n",
    "    * Under 10 years old (children)\n",
    "    * 10-17 years old\n",
    "    * 18-30 years old\n",
    "    * 31-40 years old\n",
    "    * 41-50 years old\n",
    "    * Over 50 years old  \n",
    "    \n",
    "    *Note: Based on the demographic of early 20th century, and the demographic of the Titanic passengers, the \"older\" generation was actually those over 50, with very few passengers over 65 or 70 years old.*  \n",
    "        \n",
    "* Subdivide these categories based on gender (male / female) and travel class, in order to have a more accurate estimation.\n",
    "* Then, based on this distribution, fill the missing values with random values **within** the respective age ranges."
   ]
  },
  {
   "cell_type": "code",
   "execution_count": 102,
   "metadata": {},
   "outputs": [
    {
     "name": "stdout",
     "output_type": "stream",
     "text": [
      "<class 'pandas.core.frame.DataFrame'>\n",
      "RangeIndex: 891 entries, 0 to 890\n",
      "Data columns (total 12 columns):\n",
      " #   Column       Non-Null Count  Dtype  \n",
      "---  ------       --------------  -----  \n",
      " 0   PassengerId  891 non-null    int64  \n",
      " 1   Survived     891 non-null    int64  \n",
      " 2   Pclass       891 non-null    int64  \n",
      " 3   Name         891 non-null    object \n",
      " 4   Sex          891 non-null    object \n",
      " 5   Age          714 non-null    float64\n",
      " 6   SibSp        891 non-null    int64  \n",
      " 7   Parch        891 non-null    int64  \n",
      " 8   Ticket       891 non-null    object \n",
      " 9   Fare         891 non-null    float64\n",
      " 10  Cabin        204 non-null    object \n",
      " 11  Embarked     891 non-null    object \n",
      "dtypes: float64(2), int64(5), object(5)\n",
      "memory usage: 83.7+ KB\n"
     ]
    },
    {
     "data": {
      "text/plain": [
       "None"
      ]
     },
     "metadata": {},
     "output_type": "display_data"
    }
   ],
   "source": [
    "# See columns index numbers\n",
    "display(titanic_df.info())"
   ]
  },
  {
   "cell_type": "markdown",
   "metadata": {},
   "source": [
    "### Title \"Master\"\n",
    "\n",
    "We need to handle a special modification for the title \"Master\" (young boys), otherwise there would be a discrepancy if the title \"Master\" was to be associated with an adult.\n",
    "\n",
    "Boxplot showing the distribution of title \"Master\":"
   ]
  },
  {
   "cell_type": "code",
   "execution_count": 103,
   "metadata": {},
   "outputs": [
    {
     "data": {
      "text/plain": [
       "<Axes: >"
      ]
     },
     "execution_count": 103,
     "metadata": {},
     "output_type": "execute_result"
    },
    {
     "data": {
      "image/png": "[encoded data removed]",
      "text/plain": [
       "<Figure size 500x100 with 1 Axes>"
      ]
     },
     "metadata": {},
     "output_type": "display_data"
    }
   ],
   "source": [
    "# Check the minimum and maximum age of passengers with the title \"Master\" \n",
    "master_age = titanic_df[titanic_df['Name'].str.contains('Master') & titanic_df['Age']]\n",
    "master_age.boxplot(column=['Age'], figsize=(5,1), vert=False)"
   ]
  },
  {
   "cell_type": "markdown",
   "metadata": {},
   "source": [
    "Most passengers with the title \"Master\" were aged 2-8 years old, with the oldest being 12 years old.  \n",
    "\n",
    "Therefore, we will generate random ages between 2-8 years old to fill the missing *Age* values for \"Master\". "
   ]
  },
  {
   "cell_type": "code",
   "execution_count": 104,
   "metadata": {},
   "outputs": [],
   "source": [
    "# Select passengers with title \"Master\" and unknown \"Age\"\n",
    "ag_master_condition = titanic_df[titanic_df['Name'].str.contains('Master') & titanic_df['Age'].isna()]\n",
    "ag_master_condition = ag_master_condition.index.tolist()\n",
    "\n",
    "# Number of entries\n",
    "ag_master_len = len(ag_master_condition)\n",
    "\n",
    "# Generate \"Age\" randomly (values between 2-8)\n",
    "ag_master_rand = randint(2, 8, size=ag_master_len).tolist()\n",
    "\n",
    "# Create dictionary\n",
    "ag_master_dict = dict(zip(ag_master_condition, ag_master_rand))\n",
    "\n",
    "# Update Dataframe\n",
    "titanic_df.update({'Age': ag_master_dict})"
   ]
  },
  {
   "cell_type": "code",
   "execution_count": 105,
   "metadata": {},
   "outputs": [
    {
     "name": "stdout",
     "output_type": "stream",
     "text": [
      "Conditions (index) => [65, 159, 176, 709]\n",
      "Random ages => [7, 3, 7, 3]\n",
      "Dictionary => {65: 7, 159: 3, 176: 7, 709: 3}\n",
      "\n",
      "Verification for PassengerId #65, \"Master Gerios Moubarek\":\n",
      "Passenger index 65 (Id 66):\n",
      "PassengerId                          66\n",
      "Survived                              1\n",
      "Pclass                                3\n",
      "Name           Moubarek, Master. Gerios\n",
      "Sex                                male\n",
      "Age                                 7.0\n",
      "SibSp                                 1\n",
      "Parch                                 1\n",
      "Ticket                             2661\n",
      "Fare                            15.2458\n",
      "Cabin                               NaN\n",
      "Embarked                              C\n",
      "Name: 65, dtype: object\n"
     ]
    }
   ],
   "source": [
    "# Verify that age is correctly replaced for \"Master\"\n",
    "print(f'Conditions (index) => {ag_master_condition}')  # List with indexes\n",
    "print(f'Random ages => {ag_master_rand}')  # Random ages generated (2-8 yrs old)\n",
    "print(f'Dictionary => {ag_master_dict}')  # Assigning ages to passengers\n",
    "# Check for example for index 65, if age is correctly filled:\n",
    "print('\\nVerification for PassengerId #65, \"Master Gerios Moubarek\":')\n",
    "print(f'Passenger index 65 (Id 66):\\n{titanic_df.loc[65,:]}')"
   ]
  },
  {
   "cell_type": "markdown",
   "metadata": {},
   "source": [
    "Now that the title \"Master\" situation has been resolved, we can start filling missing ages for other passengers.\n",
    "\n",
    "Frist, we will add a column \"AgeGroup\" to the dataframe, in order to split the passengers into six age categories:\n",
    "* Under 10 years old\n",
    "* 10 to 17 years old\n",
    "* 18 to 30 years old\n",
    "* 31 to 40 years old\n",
    "* 41 to 50 years old\n",
    "* over 50 years old"
   ]
  },
  {
   "cell_type": "code",
   "execution_count": 106,
   "metadata": {},
   "outputs": [],
   "source": [
    "# Function to add/update \"AgeGroup\" columns\n",
    "def age_group_column(): \n",
    "    # Age groups conditions\n",
    "    ag_conditions = [titanic_df['Age'] < 10,\n",
    "                    titanic_df['Age'].between(10, 17),\n",
    "                    titanic_df['Age'].between(18, 30),\n",
    "                    titanic_df['Age'].between(31, 40),\n",
    "                    titanic_df['Age'].between(41, 50),\n",
    "                    titanic_df['Age'] > 50]\n",
    "\n",
    "    ag_values = ['under10', '10to17', '18to30', '31to40', '41to50', 'over50']\n",
    "\n",
    "    # Add column \"AgeGroup\"\n",
    "    titanic_df['AgeGroup'] = np.select(ag_conditions, ag_values)\n",
    "\n",
    "# Add column \"AgeGroup\"\n",
    "age_group_column()\n",
    "\n",
    "# Total number of passengers\n",
    "total_passengers = titanic_df.shape[0]"
   ]
  },
  {
   "cell_type": "code",
   "execution_count": 107,
   "metadata": {},
   "outputs": [
    {
     "name": "stdout",
     "output_type": "stream",
     "text": [
      "Distribution of passengers by age group.\n",
      "AgeGroup 0 = missing age\n",
      "\n",
      "Pclass  Sex     AgeGroup\n",
      "1       female  0             9\n",
      "                10to17        7\n",
      "                18to30       27\n",
      "                31to40       24\n",
      "                41to50       13\n",
      "                over50       13\n",
      "                under10       1\n",
      "        male    0            21\n",
      "                10to17        2\n",
      "                18to30       22\n",
      "                31to40       25\n",
      "                41to50       24\n",
      "                over50       26\n",
      "                under10       2\n",
      "2       female  0             2\n",
      "                10to17        4\n",
      "                18to30       32\n",
      "                31to40       17\n",
      "                41to50       10\n",
      "                over50        3\n",
      "                under10       8\n",
      "        male    0             9\n",
      "                10to17        2\n",
      "                18to30       41\n",
      "                31to40       26\n",
      "                41to50        9\n",
      "                over50       12\n",
      "                under10       9\n",
      "3       female  0            42\n",
      "                10to17       14\n",
      "                18to30       45\n",
      "                31to40       13\n",
      "                41to50        8\n",
      "                over50        1\n",
      "                under10      21\n",
      "        male    0            90\n",
      "                10to17       22\n",
      "                18to30      131\n",
      "                31to40       50\n",
      "                41to50       20\n",
      "                over50        9\n",
      "                under10      25\n",
      "dtype: int64\n"
     ]
    }
   ],
   "source": [
    "# Visualise distribution of passengers by age group (0 = missing age)\n",
    "print('Distribution of passengers by age group.')\n",
    "print('AgeGroup 0 = missing age\\n')\n",
    "age_groups = titanic_df.groupby(['Pclass', 'Sex', 'AgeGroup']).size()\n",
    "print(age_groups)"
   ]
  },
  {
   "cell_type": "code",
   "execution_count": 108,
   "metadata": {},
   "outputs": [
    {
     "name": "stdout",
     "output_type": "stream",
     "text": [
      "All missing values for column \"Age\" have now been filled.\n"
     ]
    }
   ],
   "source": [
    "# Function Fill missing values\n",
    "def fill_missing_age(pclass, sex):\n",
    "    ''' \n",
    "    This function uses the two arguments, \"pclass\" (passenger class), \n",
    "    and \"sex\" to select a specific group of passengers.\n",
    "    Then, it  calculates the percentage of each age category within this group.\n",
    "    Finally, it generates random ages within each age category in order to\n",
    "    fill the missing values, in correlation with the age distribution of\n",
    "    passengers with known age within this group. \n",
    "    '''\n",
    "\n",
    "    # Run the function if there are still missing values for column \"Age\",\n",
    "    # otherwise, exit the function\n",
    "    if titanic_df['Age'].isnull().sum() > 0:\n",
    "        # Select passengers for specific group (based on Pclass and Sex) \n",
    "        filter = np.where((titanic_df['Pclass'] == pclass) & \n",
    "                        (titanic_df['Sex'] == sex))\n",
    "        values = titanic_df.loc[filter]\n",
    "        total = values['PassengerId'].count()  # Total passengers \n",
    "        subtotal = values.groupby(['AgeGroup']).size()  # Passengers by age group\n",
    "        age_missing = subtotal.iloc[0]  # Passengers with missing age\n",
    "        age_known = total - age_missing  # Passengers with known age\n",
    "        \n",
    "        # Calculate percentage of each age category\n",
    "        a_10to17 = subtotal.iloc[1] / age_known\n",
    "        a_18to30 = subtotal.iloc[2] / age_known\n",
    "        a_31to40 = subtotal.iloc[3] / age_known\n",
    "        a_41to50 = subtotal.iloc[4] / age_known\n",
    "        a_over50 = subtotal.iloc[5] / age_known\n",
    "        a_under10 = subtotal.iloc[6] / age_known\n",
    "\n",
    "        # Determine the distribution of passengers with missing Age\n",
    "        m_10to17 = round(age_missing * a_10to17)\n",
    "        m_18to30 = round(age_missing * a_18to30)\n",
    "        m_31to40 = round(age_missing * a_31to40)\n",
    "        m_41to50 = round(age_missing * a_41to50)\n",
    "        m_over50 = round(age_missing * a_over50)\n",
    "        m_under10 = round(age_missing * a_under10)\n",
    "        \n",
    "        # Check if all missing values have been filled,\n",
    "        # otherwise attribute the missing value to the \"31 to 40\" category\n",
    "        # This problem can only appears for very low number of passengers\n",
    "        # with missing age, so it would only affect 1 or 2 passenger names. \n",
    "        total_missing = m_10to17 + m_18to30 + m_31to40 + m_41to50 + m_over50 + m_under10\n",
    "        check = age_missing - total_missing\n",
    "        if check != 0:\n",
    "            m_31to40 = m_31to40 + check\n",
    "\n",
    "        # Lists of ID (index) for missing age\n",
    "        condition = values[values['Age'].isna()]\n",
    "        to_fill = condition.index.tolist()\n",
    "\n",
    "        # Generate random ages\n",
    "        random_ages = randint(10, 18, size=m_10to17).tolist()\n",
    "        random_ages.extend(randint(18, 31, size=m_18to30).tolist())\n",
    "        random_ages.extend(randint(31, 41, size=m_31to40).tolist())\n",
    "        random_ages.extend(randint(41, 51, size=m_41to50).tolist())\n",
    "        random_ages.extend(randint(51, 70, size=m_over50).tolist())\n",
    "        random_ages.extend(randint(1, 10, size=m_under10).tolist())\n",
    "\n",
    "        # Create dictionary\n",
    "        fill_dict = dict(zip(to_fill, random_ages))\n",
    "\n",
    "        # Update dataframe\n",
    "        titanic_df.update({'Age': fill_dict})\n",
    "\n",
    "        # Check if all missing values have been replaced\n",
    "        if (pclass == 3) & (sex == 'male'):  # Last call of the function\n",
    "            if titanic_df['Age'].isnull().sum() == 0:\n",
    "                print('All missing values for column \"Age\" have now been filled.')\n",
    "            else:\n",
    "                print('Some values are still missing for column \"Age\".\\nPlease run the function again.')\n",
    "\n",
    "    else:\n",
    "        # Display notification if all missing values for \"Age\" have been filled \n",
    "        if (pclass == 3) & (sex == 'male'):  # Last call of the function\n",
    "            print('All missing values for column \"Age\" have now been filled.')\n",
    "\n",
    "\n",
    "# Call the \"fill_missing_age\" function for each passenger group\n",
    "# Arguments: \"passenger class\" and \"sex\" \n",
    "fill_missing_age(1, 'female')\n",
    "fill_missing_age(2, 'female')\n",
    "fill_missing_age(3, 'female')\n",
    "fill_missing_age(1, 'male')\n",
    "fill_missing_age(2, 'male')\n",
    "fill_missing_age(3, 'male')\n",
    "\n",
    "# Update column \"AgeGroup\"\n",
    "age_group_column()\n",
    "\n",
    "# titanic_df.sample(40)"
   ]
  },
  {
   "cell_type": "markdown",
   "metadata": {},
   "source": [
    "We can now check there are no more missing values for the column *Age* (i.e. absence of \"AgeGroup 0\")"
   ]
  },
  {
   "cell_type": "code",
   "execution_count": 109,
   "metadata": {},
   "outputs": [
    {
     "name": "stdout",
     "output_type": "stream",
     "text": [
      "Pclass  Sex     AgeGroup\n",
      "1       female  10to17        8\n",
      "                18to30       30\n",
      "                31to40       27\n",
      "                41to50       14\n",
      "                over50       14\n",
      "                under10       1\n",
      "        male    10to17        2\n",
      "                18to30       27\n",
      "                31to40       31\n",
      "                41to50       29\n",
      "                over50       31\n",
      "                under10       2\n",
      "2       female  10to17        4\n",
      "                18to30       33\n",
      "                31to40       18\n",
      "                41to50       10\n",
      "                over50        3\n",
      "                under10       8\n",
      "        male    10to17        2\n",
      "                18to30       45\n",
      "                31to40       28\n",
      "                41to50       10\n",
      "                over50       13\n",
      "                under10      10\n",
      "3       female  10to17       20\n",
      "                18to30       64\n",
      "                31to40       18\n",
      "                41to50       11\n",
      "                over50        1\n",
      "                under10      30\n",
      "        male    10to17       30\n",
      "                18to30      177\n",
      "                31to40       67\n",
      "                41to50       27\n",
      "                over50       12\n",
      "                under10      34\n",
      "dtype: int64\n"
     ]
    }
   ],
   "source": [
    "# Double check there are no more missing values for \"Age\"\n",
    "titanic_df.isnull().sum()\n",
    "\n",
    "# Visualise distribution of passengers by age group (0 = missing age)\n",
    "age_groups = titanic_df.groupby(['Pclass', 'Sex', 'AgeGroup']).size()\n",
    "print(age_groups)"
   ]
  },
  {
   "cell_type": "markdown",
   "metadata": {},
   "source": [
    "# Data visualistion\n",
    "\n",
    "The following plots show the survival rate based on the age of passengers. "
   ]
  },
  {
   "cell_type": "code",
   "execution_count": 110,
   "metadata": {},
   "outputs": [],
   "source": [
    "# Drop unused columns \n",
    "titanic_copy_df = titanic_df.drop(columns=['PassengerId', 'Pclass', 'Name', 'Sex', 'SibSp', 'Parch', 'Ticket', 'Fare', 'Cabin', 'Embarked'])\n",
    "\n",
    "# Replace categorical variables by numerical values \n",
    "titanic_copy_df['AgeGroup'] = titanic_copy_df['AgeGroup'].map({'under10':0, '10to17':1, '18to30':2, '31to40':3, '41to50':4, 'over50':5})"
   ]
  },
  {
   "cell_type": "markdown",
   "metadata": {},
   "source": [
    "#### **Plot based on the predefined Age Groups**"
   ]
  },
  {
   "cell_type": "code",
   "execution_count": 111,
   "metadata": {},
   "outputs": [
    {
     "data": {
      "image/png": "[encoded data removed]",
      "text/plain": [
       "<Figure size 1000x600 with 2 Axes>"
      ]
     },
     "metadata": {},
     "output_type": "display_data"
    }
   ],
   "source": [
    "# Survival - based on Age Groups\n",
    "fig, (ax1, ax2) = plt.subplots(1, 2, figsize=(10, 6))\n",
    "plt.tight_layout\n",
    "\n",
    "# Survival count\n",
    "sns.histplot(data=titanic_copy_df, x='AgeGroup', hue='Survived', \n",
    "             multiple='dodge', palette='mako', discrete=True, shrink=0.8, \n",
    "             legend=False, ax=ax1)\n",
    "ax1.set(title='Survival Count by Age Group')\n",
    "ax1.set_xlabel('Age Group')\n",
    "ax1.set_ylabel('Survival count')\n",
    "ax1.set_xticks([0, 1, 2, 3, 4, 5])\n",
    "ax1.set_xticklabels(['0-10', '10-17','18-30', '31-40', '41-50', 'Over 50'])\n",
    "\n",
    "# Survival rate\n",
    "sns.histplot(data=titanic_copy_df, x='AgeGroup', hue='Survived', \n",
    "             multiple='fill', stat='percent', palette='mako', \n",
    "             discrete=True, shrink=0.6, legend=False, ax=ax2)\n",
    "ax2.set(title='Survival Ratio by Age Group')\n",
    "ax2.set_xlabel('Age Group')\n",
    "ax2.set_ylabel('Survival rate')\n",
    "ax2.set_xticks([0, 1, 2, 3, 4, 5])\n",
    "ax2.set_xticklabels(['0-10', '10-17','18-30', '31-40', '41-50', 'Over 50'])\n",
    "ax2.bar_label(ax2.containers[0], fmt='%.2f')\n",
    "\n",
    "plt.legend(labels=['Survivors', 'Fatalities'])\n",
    "plt.subplots_adjust(wspace=0.3)\n",
    "plt.show()"
   ]
  },
  {
   "cell_type": "markdown",
   "metadata": {},
   "source": [
    "Even though the 18-30 group is the most represented, it also features one of the lowest survival rate (34%). \n",
    "\n",
    "Children under 10 years old have the highest survival rate, followed by the 10-17 group. \n",
    "\n",
    "The following plot will help us visualising more details **within** these groups. \n",
    "\n",
    "### **Plot  based on the exact age (increments of 3-4 years)**"
   ]
  },
  {
   "cell_type": "code",
   "execution_count": 112,
   "metadata": {},
   "outputs": [
    {
     "data": {
      "image/png": "[encoded data removed]",
      "text/plain": [
       "<Figure size 1200x600 with 2 Axes>"
      ]
     },
     "metadata": {},
     "output_type": "display_data"
    }
   ],
   "source": [
    "# Survival - based on exact Age (not Age Group)\n",
    "fig, (ax1, ax2) = plt.subplots(1, 2, figsize=(12, 6))\n",
    "plt.tight_layout\n",
    "\n",
    "# Survival count\n",
    "sns.histplot(data=titanic_copy_df, x='Age', hue='Survived', \n",
    "             multiple='dodge', palette='mako', shrink=0.8, bins=25,\n",
    "             legend=False, ax=ax1)\n",
    "ax1.set(title='Survival Count by exact Age')\n",
    "ax1.set_xlabel('Age')\n",
    "ax1.set_ylabel('Survival count')\n",
    "\n",
    "# Survival rate\n",
    "sns.histplot(data=titanic_copy_df, x='Age', hue='Survived', \n",
    "             multiple='fill', stat='percent', palette='mako', bins=25,\n",
    "             shrink=0.6, legend=False, ax=ax2)\n",
    "ax2.set(title='Survival Ratio by Age')\n",
    "ax2.set_xlabel('Age')\n",
    "ax2.set_ylabel('Survival rate')\n",
    "\n",
    "plt.legend(labels=['Survivors', 'Fatalities'])\n",
    "plt.subplots_adjust(wspace=0.3)\n",
    "plt.show()"
   ]
  },
  {
   "cell_type": "markdown",
   "metadata": {},
   "source": [
    "Overall, this plot matches the previous Age Group plot for passengers aged between 18 and 70 years old. \n",
    "\n",
    "There are three noteworthy differences: \n",
    "\n",
    "1. For the age group 0-10 years old, there is a high survival rate for children under 5, whilst children aged 5-10 years old have a similar survival rate than adult passengers (roughly between 35% and 40%).  \n",
    "\n",
    "2. A similar observation can be made for the age group 10-17 years old, with a high survival rate (nearly 60%) for teenagers around 15 years old. But passengers aged 10-13 years old, and those aged 17-18 years old show a similar survival rate than adult passengers. \n",
    "\n",
    "3. The \"Exact Age\" plot shows a survival rate of 100% for passengers aged 80 years old. However, it is clearly an outlier, as shown by the \"Survival Count\" plot.  \n",
    "    The query below confirms that *only one* passenger older than 75 years old was aboard the Titanic.   "
   ]
  },
  {
   "cell_type": "code",
   "execution_count": 113,
   "metadata": {},
   "outputs": [
    {
     "data": {
      "text/plain": [
       "630    80.0\n",
       "851    74.0\n",
       "96     71.0\n",
       "493    71.0\n",
       "116    70.0\n",
       "Name: Age, dtype: float64"
      ]
     },
     "execution_count": 113,
     "metadata": {},
     "output_type": "execute_result"
    }
   ],
   "source": [
    "# Display Age of oldest passengers.\n",
    "titanic_df['Age'].sort_values(ascending=False).head()"
   ]
  }
 ],
 "metadata": {
  "kernelspec": {
   "display_name": "Python 3",
   "language": "python",
   "name": "python3"
  },
  "language_info": {
   "codemirror_mode": {
    "name": "ipython",
    "version": 3
   },
   "file_extension": ".py",
   "mimetype": "text/x-python",
   "name": "python",
   "nbconvert_exporter": "python",
   "pygments_lexer": "ipython3",
   "version": "3.12.2"
  }
 },
 "nbformat": 4,
 "nbformat_minor": 2
}
